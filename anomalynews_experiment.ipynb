{
 "cells": [
  {
   "cell_type": "markdown",
   "id": "846443bc",
   "metadata": {},
   "source": [
    "### Experimental notebook to validate if it even works in the first place"
   ]
  },
  {
   "cell_type": "code",
   "execution_count": 2,
   "id": "b5d4710a",
   "metadata": {},
   "outputs": [],
   "source": [
    "# from sentence_transformers import SentenceTransformer\n",
    "import torch\n",
    "import dotenv\n",
    "import os\n",
    "from app.services.news_api import FinancialModelingPrepNews\n",
    "from huggingface_hub import InferenceClient\n",
    "\n",
    "torch.set_default_device(\"mps\")\n",
    "dotenv.load_dotenv()\n",
    "api_key = os.getenv(\"FMP_API_KEY\")\n",
    "hf_token = os.getenv(\"HF_TOKEN\")\n",
    "\n",
    "client = InferenceClient(\n",
    "    provider=\"auto\",\n",
    "    api_key=hf_token,\n",
    ")\n",
    "embedding_model = \"Qwen/Qwen3-Embedding-8B\"\n"
   ]
  },
  {
   "cell_type": "code",
   "execution_count": 3,
   "id": "1eedd27a",
   "metadata": {},
   "outputs": [
    {
     "data": {
      "text/plain": [
       "array([[ 0.01031494,  0.00448608,  0.00204468, ..., -0.00167847,\n",
       "        -0.00396729, -0.00288391]], shape=(1, 4096), dtype=float32)"
      ]
     },
     "execution_count": 3,
     "metadata": {},
     "output_type": "execute_result"
    }
   ],
   "source": [
    "import os\n",
    "\n",
    "result = client.feature_extraction(\n",
    "    \"Today is a sunny day and I will get some ice cream.\",\n",
    "    model=embedding_model,\n",
    "    normalize=True\n",
    ")\n",
    "result"
   ]
  },
  {
   "cell_type": "code",
   "execution_count": 4,
   "id": "e6c1090d",
   "metadata": {},
   "outputs": [
    {
     "name": "stdout",
     "output_type": "stream",
     "text": [
      "\n",
      "📰 Fetching latest general news...\n",
      "Found 99 articles for anomaly detection:\n",
      "['title: A chief White House economic adviser said that Trump wants allies placed in the Bureau of Labor Statistics after the agency published a dismal jobs report and the president fired its commissioner\\ncontent: Kevin Hassett said the president wants his own people at the agency to provide “more transparent and reliable” jobs data.', 'title: Stock Market Correction and July 6-Month Calendar Range\\ncontent: On July 13th\\xa0I wrote a market update on how the July 6-month Calendar Range Resets. To refresh your memory.', 'title: Top Fed officials unswayed by poor July jobs report, take wait-and-see approach to rate cuts\\ncontent: Several senior Federal Reserve officials on Friday characterized the labor market as “solid” even after a poor July jobs report and appeared in no rush to lower U.S. interest rates.', 'title: Wall Street Brunch: The BLS Also Does The CPI\\ncontent: Wall Street faces uncertainty after President Trump fired the BLS commissioner, raising concerns about the reliability and independence of key economic data. This unprecedented move could undermine trust in both jobs and inflation data, impacting Fed policy and potentially creating headwinds for stocks and Treasuries.', 'title: \\'The revisions are hard evidence\\': White House struggles to justify firing of BLS chief over weak jobs numbers\\ncontent: National Economic Council Director Kevin Hassett points to revisions in Friday\\'s jobs report as \"evidence\" backing President Donald Trump\\'s firing of Erika McEntarfer. \"I mean, the revisions are hard evidence,\" he said on \"Meet the Press.', \"title: Three Ways a Rally Ends – Only One Makes You Money\\ncontent: Editor's Note: The Nasdaq and S&P aren't far below all-time highs. Big Tech earnings, overall, are wowing Wall Street.\", \"title: S&P 500: Maybe They Did Just Ring A Bell At The Top\\ncontent: Last week's market action could very well be a setup for a rough next few months. Tariffs, Fed, earnings, etc.\", \"title: The Federal Reserve Isn't What Pundits Want It To Be, And Never Was\\ncontent: The Fed's mandates are rooted in endless fallacy, most prominently the discredited Phillips Curve which says economic growth causes prices to rise. Please keep this in mind as monetary policy grandees pen high-toned pieces musing about what the next Fed Chairman should think about, and do.\", 'title: Why the latest jobs data is a signaling bigger problems for the economy\\ncontent: Hiring slowed down in July, and revisions to May and June jobs reports showed job growth was even weaker than previously reported. Yahoo Finance Senior Columnist Rick Newman joins Market Domination Overtime to explain why tariffs are weighing on the economy and why the Federal Reserve may be forced to respond.', \"title: The Market Faces A Major Turning Point After Shocking Jobs Miss\\ncontent: Friday's weak jobs report and large downward revisions triggered sharp declines in rates, the dollar, and stocks, marking a potential market inflection point. The odds of a September Fed rate cut surged as Treasury yields and the dollar plunged, with a bull steepener forming unexpectedly in the yield curve.\", 'title: 3 Market Predictions For August\\ncontent: Markets got off on the wrong foot for August as the NASDAQ had its largest decline since April 21st on Friday and the S&P 500 dropped 1.6% as well. Tariffs are going to be one key watch item for August as they will increasingly start to impact corporate earnings, profit margins, and could start to trigger higher inflation.', 'title: The Market And Economy Start To Converge Again On Jobs Data\\ncontent: Economic data is weakening, with job growth slowing sharply and consumer spending growth at its lowest since the pandemic. Trade policy and tariffs are directly impacting job creation and business sentiment, as reflected in recent PMI and payroll reports.', 'title: These are the charts Wall Street is watching\\ncontent: Twice a year, Yahoo Finance compiles some of the top charts Wall Street strategists and economists are watching. Senior Markets Reporter Josh Schafer takes a closer look at three of the charts featured in volume five of the Yahoo Finance Chartbook.', \"title: It's a Scorching Hot Summer for Deals on Wall Street. Vacation Can Wait.\\ncontent: The busiest week for dealmaking since 2021 has bankers and lawyers scrambling.\", \"title: The economy is limping, not booming, and the costs of Trump's tariffs can be seen all over this week's data\\ncontent: If you're interested in understanding the current state of the U.S. economy and corporate America, and what the rest of the year might look like (and who isn't?), this was the week for you—with five days packed full of earnings reports, policy announcements, and economic data.\", 'title: Top catalysts for the Dow Jones Index this week\\ncontent: The Dow Jones Index plummeted by over 500 points on Friday as market participants reacted to the trade news and the latest US non-farm payrolls (NFP) data. It plunged to a low of $43,600, its lowest level since June 27.', \"title: A court could strike down Trump's tariffs—and blow a hole in the U.S. budget\\ncontent: Trump administration lawyers are trying to save ‘liberation day' tariffs—or risk losing billions in government revenue.\", \"title: Stocks get hit as economic clouds, tariffs gathered—but history suggests it's too soon to panic\\ncontent: Tariff threats from President Trump and a weakening U.S. labor market have unsettled financial markets ahead of a seasonally weak period for stocks between August and October. Still, there's plenty of reason to hold tight and look past any choppy trading.\", \"title: Its a pivotal week for earnings—what they reveal about tariffs and the resilience of U.S. consumers\\ncontent: Wall Street's optimism has proven surprisingly durable—even with tariffs back in the headlines. In fact, analysts nudged third-quarter profit estimates higher in recent weeks, according to FactSet.\", \"title: The 1-Minute Market Report - August 3, 2025\\ncontent: Friday's weak employment report triggered a broad market selloff, highlighting emerging cracks in the economic foundation and raising correction risks. Defensive sectors like Utilities and the Mag 7 mega-cap stocks outperformed, while cyclical and value stocks, especially small caps, were hardest hit.\", \"title: The build-out of AI infrastructure is costing a fortune, straining companies and capital markets, writes the WSJ's Greg Ip\\ncontent: The build-out of artificial-intelligence infrastructure is costing a fortune, straining companies and capital markets.\", 'title: Erika McEntarfer led the Bureau of Labor Statistics through rocky times before President Trump dismissed her after an ugly jobs report\\ncontent: Erika McEntarfer led the Bureau of Labor Statistics through rocky times before the president dismissed her after an ugly jobs report.', \"title: Trump's working group on digital asset markets looks to secure a win for his presidency\\ncontent: Executive Director of the President's Council of Advisers on Digital Assets of the White House Bo Hines on the administration working to usher in the 'golden age' for digital assets.\", 'title: Trump Ousts BLS Chief. What It Means for Investors.\\ncontent: The move raises questions about the reliability of the data going forward.', \"title: I'm Buying This Market Dip With Leverage\\ncontent: Trump is pushing back the implementation of the reciprocal tariffs for the second time this year. I'm not surprised in the slightest.\", 'title: Technical Note: Time For A Turn\\ncontent: Stocks are vulnerable to a correction after a 33% rally, with mounting risks from tariff reversals and concerning economic data. Consumer weakness, especially among younger demographics, and high housing costs signal broader economic challenges that threaten retail and GDP.', 'title: 2025 to mark start of major stock market drawdown, warns strategist\\ncontent: With the second half of 2025 already underway, Bloomberg Intelligence senior commodity strategist Mike McGlone has warned that this year could mark the beginning of a major stock market downturn.', \"title: Benzinga's 'Stock Whisper' Index: 5 Stocks Investors Secretly Monitor But Don't Talk About Yet\\ncontent: Each week,\\xa0Benzinga's Stock Whisper Index\\xa0uses a combination of proprietary data and pattern recognition to showcase five stocks that are just under the\\xa0surface and deserve attention.\", \"title: In a dissent not seen in three decades, two Fed governors wanted to cut interest rates and here is why\\ncontent: Federal Reserve Governors Bowman and Waller dissented from this week's decision to hold interest rates steady and explained why they would've cut rates by 25-basis-points.\", \"title: Don't blame Jerome Powell — or the Fed — if you can't afford to buy a house right now\\ncontent: Trump says the Fed's high interest rates are keeping Americans from buying houses. There's more to it than that.\", 'title: Stock market wipes out over $1 trillion in a day\\ncontent: The United States stock market suffered massive losses on Friday, erasing more than $1 trillion in value in a single day as weak labor data and policy uncertainty rattled investors.', 'title: Trade And OBBB Deals Sealed, Fed Dread, And AI/Meme Dreams\\ncontent: As the stock market reached new all-time highs, investors had plenty to juggle - both in Washington, D.C., and on Wall Street.', \"title: Trade Fueled Inequality. Can Trump's Tariffs Reduce It?\\ncontent: The president has pitched his trade policies at workers who feel left behind by globalization. But that doesn't mean trade barriers will revive factories and close income gaps.\", \"title: Trump official explains what is 'stopping inflation' in the US\\ncontent: Interior Secretary Doug Burgum sounds off on what is driving a 'forced increase' in prices and fires back at actor Samuel L. Jackson praising wind farms on 'Maria Bartiromo's Wall Street.\", 'title: Key ETF Asset Class Performance\\ncontent: The market ended the month of July on a down note, but the S&P 500 still ended the month with a gain of 2.3%. While domestic equities posted small gains in July, there was quite a bit of disparity among international markets.', 'title: A record-setting July for stocks gave way to rough start to August—investors may not be ready for what comes next\\ncontent: Boring can be bullish. Unfortunately, August kicked off Friday with plenty of excitement.', \"title: 'TIME TO RESIGN': Former Trump advisor blasts Powell for being 'most political Fed Chairman' ever\\ncontent: Former senior economic advisor Stephen Moore discusses President Donald Trump's termination of Bureau of Labor Statistics commissioner and more on ‘The Bottom Line.' #foxbusiness #fox #news #breakingnews #business #job #jobs #report #whitehouse #bls #labor #statistics #trump #donaldtrump #economy #economics #trade #tariffs\", \"title: Hang Seng Index News: Tariffs, Stimulus Silence, and Weak PMIs Sink Stocks – Weekly Recap\\ncontent: Beijing's lack of fresh stimulus and US tariffs weigh on Hong Kong and China stocks. Investors eye trade news and China's upcoming economic data.\", 'title: After months of mixed signals, official data this week showed a marked slowdown in economic output and consumer spending, then a jarringly weak jobs report. @GregIp helps unpack the wild week\\ncontent: After months of mixed signals, official data this week showed a marked slowdown in economic output and consumer spending, followed by a jarringly weak jobs report. Where things go from here is murky.', \"title: New York Fed's John Williams says the labor market remains solid, even after unusually large downward revisions to job gains for May and June\\ncontent: New York Fed's John Williams says labor market remains solid, even after unusually large downward revisions to job gains for May and June.\", \"title: Stagflation Is Coming. Don't Blame the Fed—Blame Tariffs.\\ncontent: Hiring has slowed in the aftermath of President Trump's Liberation Day announcement. Expect layoffs and more inflation next.\", \"title: Trump, Claiming Weak Jobs Numbers Were ‘Rigged,' Fires Labor Official\\ncontent: Economists said ousting the head of the Bureau of Labor Statistics could undermine confidence in government economic data.\", 'title: Stock Market This Week: Mag 7 Earnings, Unchanged Rates and Weak Jobs Data\\ncontent: It was a week that saw all-time highs and a Friday sell-off. Days after the S&P 500 (SPX) and Nasdaq-100 (NDX) notched new records, revisions to employment data sent shares spiraling into the weekend.', 'title: Atlanta Fed president: The downward revisions to jobs report are telling\\ncontent: Raphael Bostic, Atlanta Fed president, reacts to the weaker-than-expected jobs report.', 'title: Trump wants Bureau of Labor Statistics chief fired after weak July jobs report\\ncontent: Market Domination anchor Josh Lipton breaks down the latest market news for August 1, 2025. Stocks fell on Friday following the July jobs report.', \"title: US stocks sink, Q2 tech earnings call trends, Lamborghini's latest hybrid costs $380K\\ncontent: Asking for a Trend, anchor Josh Lipton breaks down the latest market trends for August 1, 2025. US stocks sink.\", \"title: Kudlow: Is the Fed head forcing America into a recession?\\ncontent: FOX Business host Larry Kudlow considers Fed Chair Jerome Powell's leadership and what impact the central bank's ruling could mean for the economy on ‘Kudlow.' #foxbusiness #news #politics #federalreserve #finance #economy #trump #usa\", 'title: Peter Navarro Reacts to BLS, Fed News\\ncontent: Peter Navarro, White House Senior Counselor for Trade and Manufacturing Policy, reacts to the President\\'s decision to call for the firing of the Bureau of Labor Statistics chief and the decision by Federal Reserve Governor Ariana Kugler\\'s resignation. He speaks with Kailey Leinz and Joe Mathieu on the late edition of Bloomberg\\'s \"Balance of Power.', 'title: Are There Any Concerns Over Fed Gov. Kugler\\'s Resignation?\\ncontent: Senator Mark Warner (D-VA) shares his thoughts on Federal Reserve Governor Adriana Kuglar resigning and talks about Fed independence being crucial as President Trump can now replace her position. He also talks about President Trump firing the Bureau of Labor Statistics commissioner after a weak US July Jobs report stating the firing is \"beyond outrageous.', \"title: President Trump fired the top Bureau of Labor Statistics official after the government published new data showing that U.S. hiring slowed sharply this summer\\ncontent: The president's move throws the quality of America's statistical apparatus into question.\", 'title: President Trump on Jobs Report, Firing Head of BLS\\ncontent: \"We need people we can trust,\" President Donald Trump says after he told officials to fire Erika McEntarfer, the commissioner of the\\xa0Bureau of Labor Statistics, hours after a report showed US job growth\\xa0cooled sharply\\xa0over the last three months. Sign up for the Washington Edition newsletter to find out how the worlds of money and politics intersect in the US capital: https://bloom.bg/3KkEimO -------- More on Bloomberg Television and Markets Like this video?', \"title: 'Fast Money' traders talk stocks sinking on tariff worries and weak jobs data\\ncontent: The 'Fast Money' traders talk stocks sinking on tariff worries and weak jobs data.\", \"title: Goldman Sachs' Eric Sheridan talks tech stocks seeing worst trading day in four months\\ncontent: Eric Sheridan, Goldman Sachs, joins 'Closing Bell Overtime' to talk the impact of today's trade news on Big Tech and chip stocks.\", 'title: Summers Says Fed Cut May Be \\'Playing With Fire\\'\\ncontent: Former US Treasury Secretary Lawrence Summers talks to \"Wall Street Week\" host David Westin about the dissents in the Federal Open Market Committee\\'s vote to hold the benchmark federal funds rate in a range of 4.25%-4.5%. Summers says, \"I think we are a bit playing with fire.', 'title: Trump Calls for a Fed Mutiny\\ncontent: The jobs report shows a weakening labor market', \"title: Using immigration to dismiss jobs data 'is a mistake', says Renaissance's Neil Dutta\\ncontent: Neil Dutta, Renaissance Macro Research, joins CNBC's Steve Liesman and 'Closing Bell Overtime' to talk the response to today's jobs report and what it signals about the economy.\", 'title: Bonds and the dollar are sounding the alarm about the U.S. economy. Equity investors might want to listen.\\ncontent: “Stocks are pricing in significant earnings growth, and significant economic growth, yet at the same time, the macro data are deteriorating, and the Fed is doing nothing about it,” said Richard Farr, chief market strategist at Pivotus Partners.', \"title: Trump fires labor statistics chief hours after data showed jobs growth slowed\\ncontent: US president accused of ‘firing the messenger' as he makes claims without evidence about Erika McEntarfer\", \"title: Stocks close sharply lower on tariff turmoil and worsening jobs numbers\\ncontent: Bob Elliott, Unlimited CEO and Michael Farr, Farr Miller Washington, joins 'Closing Bell Overtime' to talk the day's market action.\", 'title: A Fed governor plans to resign, giving Trump an opportunity to shape central bank.\\ncontent: The resignation comes as President Trump has been openly pressuring the central bank to lower interest rates and calling for Jerome H. Powell, the chair, to step down.', 'title: A Weak Jobs Report and Revised Tariff Plans Send Markets Reeling\\ncontent: U.S. stocks and bond yields fall sharply on Friday, and investors are betting a Fed interest-rate cut is coming soon.', \"title: Strong Earnings Can't Save the Stock Market From Jobs and Tariffs\\ncontent: “What is good for the Magnificent Seven names is not necessarily good for the rest of the equity market,” one strategist said, as stocks suffered their worst week since May.\", 'title: S&P Falls 1.5% On Weak Jobs Data, Trump Tariffs | Closing Bell\\ncontent: Comprehensive cross-platform coverage of the U.S. market close on Bloomberg Television, Bloomberg Radio, and YouTube with Matt Miller, Katie Greifeld, Carol Massar and Tim Stenovec. -------- More on Bloomberg Television and Markets Like this video?', \"title: ‘WAKE UP': Fed BLASTED for ignoring economic slowdown\\ncontent: ‘The Big Money Show' panelists discuss slowing job growth from July and calls for the Federal Reserve to take action on interest rates.\", \"title: Here's where Trump's tariffs stand after this week's salvos\\ncontent: U.S. President Donald Trump made a range of moves with tariffs as this week came to an end. Here's a rundown of where his policies for import taxes stand as August gets going.\", \"title: Aswath Damodaran: Next 2-3 months will show the market's steady level\\ncontent: Aswath Damodaran, NYU professor, joins 'Closing Bell' to discuss the market's valuations, if sectors of the market were overbought and much more.\", 'title: Trump orders termination of labor statistics official after jobs report and downward revisions\\ncontent: Trump criticizes July jobs report showing only 74,000 jobs added and announces plan to fire Bureau of Labor Statistics commissioner Erika McEntarfar', \"title: A Federal Reserve governor just said she's resigning early, giving Trump a chance to put even more pressure on Powell\\ncontent: There will soon be a vacancy on the Federal Reserve — and it was a surprise to just about everyone. Federal Reserve Gov. Adriana Kugler said she would step down next week.\", \"title: Stock Market Posts Worst Week in Months on Renewed Economic Fears\\ncontent: Data showing cracks in the U.S. labor market and President Trump's newest barrage of tariffs shook investors around the world, weighing on stocks, the dollar and more.\", \"title: Trump, Claiming Weak Jobs Numbers Were ‘Rigged,' Moves to Fire Labor Official\\ncontent: Economists said ousting the head of the Bureau of Labor Statistics could undermine confidence in government economic data.\", \"title: Mohamed El-Erian on jobs data: Not politically driven but do have revision issues\\ncontent: Mohamed El-Erian, Allianz chief economic advisor, joins 'Closing Bell' to discuss the expert's thoughts on jobs data revisions, how the estimates come to be and much more.\", 'title: Fed Governor Kugler to Resign Effective Aug. 8\\ncontent: Federal Reserve Governor\\xa0Adriana Kugler\\xa0will step down from her position on the central bank\\'s board, the Fed announced. Mike McKee reports on \"Bloomberg The Close.', \"title: Federal Reserve Governor Adriana Kugler to Resign\\ncontent: Kugler's term as a governor was set to expire early next year. She was nominated to the Fed board by former President Joe Biden in 2023.\", 'title: Fed Governor Steps Down Early, Giving Trump Opportunity to Appoint New Official\\ncontent: The resignation comes as President Trump has been openly pressuring the central bank to lower interest rates and calling for Jerome H. Powell, the chair, to step down.', \"title: Morgan Stanley's Chris Toomey: Markets were due for pullback and jobs report was catalyst\\ncontent: Chris Toomey, Morgan Stanley Private Wealth Management managing director, joins 'Power Lunch' to discuss what to expect from markets the next few weeks, what the jobs data meant to the economy and much more.\", 'title: Federal Reserve Governor Kugler, part of the committee that sets interest rates, is resigning\\ncontent: Her resignation now paves the way for Trump to put his own nominee in for the Board of Governors.', \"title: Michelle Caruso-Cabrera: Market would show if jobs data is bogus and it hasn't\\ncontent: CNBC's Steve Liesman and Michelle Caruso-Cabrera, MCC Global Enterprises CEO, joins 'Power Lunch' to discuss the latest jobs report.\", \"title: Economic Reality Enters The Chat Room\\ncontent: Market valuations remain historically extreme, disconnected from current economic fundamentals, echoing late-1990s investor enthusiasm but without strong growth or demographic tailwinds. Today's economic data—a weak jobs report, falling labor participation, and declining manufacturing and construction activity—highlight mounting structural and cyclical headwinds for the U.S. economy.\", \"title: Trump, Claiming Weak Jobs Numbers Were ‘Manipulated,' Moves to Fire Labor Official\\ncontent: Economists said ousting the head of the Bureau of Labor Statistics could undermine confidence in government economic data.\", \"title: Liesman: No evidence that jobs data is politicized\\ncontent: CNBC's Steve Liesman reports on news from the White House.\", 'title: Trump says he plans to fire BLS chief after poor U.S. jobs report\\ncontent: President Donald Trump on Friday said he plans to fire the head of the government agency that produces the monthly jobs report, claiming without evidence that she is biased against him.', 'title: Housing market is stuck as canceled sales kill deals, 401(k) withdrawals on the rise\\ncontent: Mind Your Money anchor Allie Canal breaks down the latest tools to help your money grow for August 1, 2025. More homebuyers are walking away from contracts as canceled sales are on the rise.', \"title: Trump calls for ‘stubborn' Fed chair Powell to be unseated by board at Federal Reserve\\ncontent: President Donald Trump on Friday called for the Federal Reserve's board of governors to usurp the power of Fed Chair Jerome Powell, criticizing the head of the U.S. central bank for not cutting short-term interest rates.Posting on his Truth Social platform, Trump called Powell “stubborn.” The Fed chair has been subjected to vicious verbal attacks by the Republican president over several months.The Fed has the responsibility of stabilizing prices and maximizing employment.\", 'title: Manufacturing activity contracts in July, Jobs report misses, SEC Chair talks crypto regulation\\ncontent: Market Catalysts anchor Julie Hyman breaks down the latest market movers for August 1, 2025. ISM Manufacturing data for July fell from 49 to 48.', \"title: Tariffs are never an easy thing to digest, says Oppenheimer's John Stoltzfus\\ncontent: John Stoltzfus,\\xa0Oppenheimer\\xa0chief investment strategist, joins 'The Exchange' to discuss his S&P 500 targets for year-end, July jobs report, and more.\", \"title: Why the Fed just made a big mistake\\ncontent: Here's why one expert says the Fed should have cut interest rates months ago. Catch the full interview with Ahmed Riesgo and TheStreet's Caroline Woods here: https://youtu.be/flrVZcijEL4 CAROLINE WOODS: I was taking a look at the CME Fedwatch tool.\", 'title: Massachusetts Governor on Research Funding, Harvard, Tariffs\\ncontent: Massachusetts Governor Maura Healey discusses the state\\'s bid for $400 million in research investment, President Donald Trump\\'s standoff with Harvard University and the economic impact of tariffs on \"Balance of Power.\" Sign up for the Economics Daily newsletter to discover what\\'s driving the global economy and what it means for policy makers, businesses, investors and you: https://bloom.bg/4535pfS -------- More on Bloomberg Television and Markets Like this video?', 'title: Trump directs commissioner of labor statistics to be fired after weaker-than-expected jobs figures slam markets\\ncontent: Trump directs commissioner of labor statistics to be fired after weaker-than-expected jobs figures slam markets', \"title: Tariffs, Earnings, Economic Data, and More This Past Week\\ncontent: Though the Dow Jones Industrial Average (DJI), S&P 500 Index (SPX), and Nasdaq Composite Index (IXIC) all posted strong monthly gains on Thursday , they're all headed for firm weekly losses.\", \"title: Investor concern on tariffs should be on other countries' economies, says BCA's Marko Papic\\ncontent: Marko Papic, BCA Research macro and geopolitical strategist, joins 'The Exchange' to discuss stocks moving sharply lower and what's behind the sell-off and what it all means for the Fed and markets moving forward.\", 'title: US job market cools as pressure grows on Jerome Powell to cut rates\\ncontent: Nonfarm payrolls swelled by a lower-than-expected 73,000 jobs last month.', \"title: Consumer Sentiment Still Broadly Negative Despite Small Improvements in July\\ncontent: The mood of consumers improved for a second consecutive month in July, though it remains worse than it was in December, according to the latest installment of the University of Michigan's Surveys of Consumers, released Friday (Aug. 1). The rise in July from June was measured at 1.6%, stepping up to 61.7 from 60.\", \"title: Fed has increased likelihood to cut rates in September now, says Oppenheimer's John Stoltzfus\\ncontent: Oppenheimer's John Stoltzfus, joins 'The Exchange' to discuss markets, the economy, the weak jobs data and more.\", 'title: Weak Jobs Report Sparks Rally in Short-Dated Treasuries\\ncontent: Shorter-dated Treasuries saw the biggest decline in yields Friday.', 'title: How Tariffs Raise Costs for Farmers, Making Food More Expensive\\ncontent: The latest round of tariffs is likely to make agricultural production even more expensive and, potentially, limit access to goods not produced in the United States.', 'title: Trump Turns to Untested Tariffs to Reorder Global Trade\\ncontent: President Trump has long wanted to rework world trade. The tariffs set to go into effect next week will carry out that plan.', \"title: New tariffs could push inflation higher\\ncontent: With President Trump unleashing sweeping tariffs, here's how it might impact your wallet. Catch the full interview with Moody's Analytics Chief economist Mark Zandi here: https://youtu.be/Hb9PRQFg1OM Transcript: CAROLINE WOODS: Well, we also have the tariff deadline on Friday.\", 'title: Canada trade team could quit DC talks after Trump tariffs, says Carney adviser\\ncontent: The Canadian team working on a trade deal with the United States could walk away from talks in the wake of a U.S. decision to impose a 35% tariff on some goods from Canada, an adviser to Prime Minister Mark Carney said on Friday.', \"title: Weak jobs data and new tariffs weigh on stocks\\ncontent: The Investment Committee debate the macro setup for stocks as a weak jobs report and new tariffs push the market lower. CNBC's Steve Liesman joins ‘Halftime Report' to the latest out of the Fed.\"]\n"
     ]
    }
   ],
   "source": [
    "with FinancialModelingPrepNews() as news_api:\n",
    "    print(f\"\\n📰 Fetching latest general news...\")\n",
    "    articles = news_api.get_articles_for_anomaly_detection(limit=100, news_type=\"general\")\n",
    "    print(f\"Found {len(articles)} articles for anomaly detection:\")\n",
    "\n",
    "articles_text = []\n",
    "for article in articles:\n",
    "    articles_text.append(f\"title: {article['title']}\\ncontent: {article['snippet']}\")\n",
    "\n",
    "print(articles_text)"
   ]
  },
  {
   "cell_type": "code",
   "execution_count": null,
   "id": "70367e7a",
   "metadata": {},
   "outputs": [
    {
     "data": {
      "text/plain": [
       "array([[ 0.00726318,  0.00518799, -0.02453613, ..., -0.00017929,\n",
       "         0.00035858, -0.0145874 ],\n",
       "       [-0.01672363, -0.01062012, -0.01757812, ...,  0.00921631,\n",
       "         0.01818848,  0.0027771 ],\n",
       "       [ 0.00735474, -0.01098633, -0.02783203, ...,  0.00390625,\n",
       "         0.00714111,  0.04785156],\n",
       "       ...,\n",
       "       [ 0.0133667 , -0.00016022, -0.03515625, ..., -0.00854492,\n",
       "         0.0168457 ,  0.02941895],\n",
       "       [ 0.01379395,  0.02722168, -0.01513672, ...,  0.01647949,\n",
       "         0.02172852,  0.03417969],\n",
       "       [-0.00167084,  0.00040627, -0.03149414, ..., -0.00239563,\n",
       "         0.02185059,  0.00622559]], shape=(94, 4096), dtype=float32)"
      ]
     },
     "execution_count": 5,
     "metadata": {},
     "output_type": "execute_result"
    }
   ],
   "source": [
    "result = client.feature_extraction(\n",
    "    articles_text,\n",
    "    model=embedding_model,\n",
    "    normalize=True\n",
    ")\n",
    "\n",
    "result"
   ]
  },
  {
   "cell_type": "code",
   "execution_count": 6,
   "id": "1ac0fc03",
   "metadata": {},
   "outputs": [
    {
     "name": "stdout",
     "output_type": "stream",
     "text": [
      "[[1.0011082  0.5423698  0.30085957 ... 0.35115767 0.25027305 0.39292222]\n",
      " [0.5423698  1.0024085  0.3797459  ... 0.5442909  0.43137676 0.5703728 ]\n",
      " [0.30085957 0.3797459  1.0012469  ... 0.3724013  0.23221067 0.3578353 ]\n",
      " ...\n",
      " [0.35115767 0.5442909  0.3724013  ... 1.0000752  0.54015934 0.49364024]\n",
      " [0.25027305 0.43137676 0.23221067 ... 0.54015934 0.9985377  0.43457985]\n",
      " [0.39292222 0.5703728  0.3578353  ... 0.49364024 0.43457985 1.0058978 ]]\n"
     ]
    }
   ],
   "source": [
    "# calculate similarity between articles\n",
    "# use numpy to calculate similarity\n",
    "import numpy as np\n",
    "similarity = np.dot(result, result.T)\n",
    "print(similarity)"
   ]
  },
  {
   "cell_type": "code",
   "execution_count": null,
   "id": "898f8d9c",
   "metadata": {},
   "outputs": [],
   "source": []
  }
 ],
 "metadata": {
  "kernelspec": {
   "display_name": ".venv",
   "language": "python",
   "name": "python3"
  },
  "language_info": {
   "codemirror_mode": {
    "name": "ipython",
    "version": 3
   },
   "file_extension": ".py",
   "mimetype": "text/x-python",
   "name": "python",
   "nbconvert_exporter": "python",
   "pygments_lexer": "ipython3",
   "version": "3.13.5"
  }
 },
 "nbformat": 4,
 "nbformat_minor": 5
}
